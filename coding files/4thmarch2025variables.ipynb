{
 "cells": [
  {
   "cell_type": "markdown",
   "id": "4c950614",
   "metadata": {},
   "source": [
    "Variables"
   ]
  },
  {
   "cell_type": "code",
   "execution_count": 9,
   "id": "87830eba",
   "metadata": {},
   "outputs": [
    {
     "name": "stdout",
     "output_type": "stream",
     "text": [
      "first assign a value to variable\n",
      "5\n",
      "John\n",
      "\n",
      "variable declared with any particular type, and can even change type after they have been set.\n",
      "Sally\n",
      "\n",
      "data type of a variable, this can be done with casting.\n",
      "\n",
      "You can get the data type of a variable with the type() function.\n",
      "<class 'int'>\n",
      "<class 'str'>\n",
      "\n",
      "String variables can be declared either by using single or double quotes:\n",
      "\n",
      "Variable names are case-sensitive.\n",
      "Sally\n"
     ]
    }
   ],
   "source": [
    "print('first assign a value to variable')\n",
    "x = 5\n",
    "y = \"John\"\n",
    "print(x)\n",
    "print(y)\n",
    "print()\n",
    "print('variable declared with any particular type, and can even change type after they have been set.')\n",
    "x = 4       # x is of type int\n",
    "x = \"Sally\" # x is now of type str\n",
    "print(x)\n",
    "print()\n",
    "print('data type of a variable, this can be done with casting.')\n",
    "x = str(3)    # x will be '3'\n",
    "y = int(3)    # y will be 3\n",
    "z = float(3)  # z will be 3.0\n",
    "print()\n",
    "print('You can get the data type of a variable with the type() function.')\n",
    "x = 5\n",
    "y = \"John\"\n",
    "print(type(x))\n",
    "print(type(y))\n",
    "print()\n",
    "print('String variables can be declared either by using single or double quotes:')\n",
    "x = \"John\"\n",
    "# is the same as\n",
    "x = 'John'\n",
    "print()\n",
    "print('Variable names are case-sensitive.')\n",
    "a = 4\n",
    "A = \"Sally\"\n",
    "#A will not overwrite a\n",
    "print(A)"
   ]
  },
  {
   "cell_type": "markdown",
   "id": "28677919",
   "metadata": {},
   "source": [
    "Variable names examples"
   ]
  },
  {
   "cell_type": "code",
   "execution_count": null,
   "id": "7bf602a1",
   "metadata": {},
   "outputs": [
    {
     "ename": "SyntaxError",
     "evalue": "invalid decimal literal (4244039694.py, line 10)",
     "output_type": "error",
     "traceback": [
      "  \u001b[36mCell\u001b[39m\u001b[36m \u001b[39m\u001b[32mIn[10]\u001b[39m\u001b[32m, line 10\u001b[39m\n\u001b[31m    \u001b[39m\u001b[31m2myvar = \"John\"\u001b[39m\n    ^\n\u001b[31mSyntaxError\u001b[39m\u001b[31m:\u001b[39m invalid decimal literal\n"
     ]
    }
   ],
   "source": [
    "print('Legal variable names:')\n",
    "myvar = \"John\"\n",
    "my_var = \"John\"\n",
    "_my_var = \"John\"\n",
    "myVar = \"John\"\n",
    "MYVAR = \"John\"\n",
    "myvar2 = \"John\"\n",
    "print()\n",
    "print('Illegal variable names:')\n",
    "2myvar = \"John\"\n",
    "my-var = \"John\"\n",
    "my var = \"John\"\n"
   ]
  },
  {
   "cell_type": "code",
   "execution_count": 11,
   "id": "3fc987d2",
   "metadata": {},
   "outputs": [
    {
     "name": "stdout",
     "output_type": "stream",
     "text": [
      "Camel Case: Each word, except the first, starts with a capital letter:\n",
      "Pascal Case: Each word starts with a capital letter:\n",
      "Snake Case: Each word is separated by an underscore character:\n"
     ]
    }
   ],
   "source": [
    "print('Camel Case: Each word, except the first, starts with a capital letter:')\n",
    "\n",
    "myVariableName = \"John\"\n",
    "print('Pascal Case: Each word starts with a capital letter:')\n",
    "\n",
    "MyVariableName = \"John\"\n",
    "print('Snake Case: Each word is separated by an underscore character:')\n",
    "\n",
    "my_variable_name = \"John\""
   ]
  },
  {
   "cell_type": "code",
   "execution_count": 12,
   "id": "f0a25cfe",
   "metadata": {},
   "outputs": [
    {
     "name": "stdout",
     "output_type": "stream",
     "text": [
      "Python Variable Assinging methods\n",
      "Many Values to Multiple Variables:Python allows you to assign values to multiple variables in one line:\n",
      "Orange\n",
      "Banana\n",
      "Cherry\n",
      "\n",
      "One Value to Multiple Variables: And you can assign the same value to multiple variables in one line:\n",
      "Orange\n",
      "Orange\n",
      "Orange\n",
      "\n",
      "Unpack a Collection:If you have a collection of values in a list, tuple etc. Python allows you to extract the values into variables. This is called unpacking.\n",
      "apple\n",
      "banana\n",
      "cherry\n"
     ]
    }
   ],
   "source": [
    "print('Python Variable Assinging methods')\n",
    "print('Many Values to Multiple Variables:Python allows you to assign values to multiple variables in one line:')\n",
    "x, y, z = \"Orange\", \"Banana\", \"Cherry\"\n",
    "print(x)\n",
    "print(y)\n",
    "print(z)\n",
    "print()\n",
    "print('One Value to Multiple Variables: And you can assign the same value to multiple variables in one line:')\n",
    "x = y = z = \"Orange\"\n",
    "print(x)\n",
    "print(y)\n",
    "print(z)\n",
    "print()\n",
    "print('Unpack a Collection:If you have a collection of values in a list, tuple etc. Python allows you to extract the values into variables. This is called unpacking.')\n",
    "fruits = [\"apple\", \"banana\", \"cherry\"]\n",
    "x, y, z = fruits\n",
    "print(x)\n",
    "print(y)\n",
    "print(z)"
   ]
  },
  {
   "cell_type": "code",
   "execution_count": 13,
   "id": "6c217b42",
   "metadata": {},
   "outputs": [
    {
     "name": "stdout",
     "output_type": "stream",
     "text": [
      "python output variables\n",
      "output use print statement\n",
      "Python is awesome\n",
      "\n",
      "In the print() function, you output multiple variables, separated by a comma:\n",
      "Python is awesome\n",
      "\n",
      "You can also use the + operator to output multiple variables:\n",
      "Python is awesome\n",
      "\n",
      "For numbers, the + character works as a mathematical operator:\n",
      "15\n",
      "if we want to combine string and number then use comma\n",
      "5 John\n"
     ]
    }
   ],
   "source": [
    "print('python output variables')\n",
    "print('output use print statement')\n",
    "x = \"Python is awesome\"\n",
    "print(x)\n",
    "print()\n",
    "print('In the print() function, you output multiple variables, separated by a comma:')\n",
    "x = \"Python\"\n",
    "y = \"is\"\n",
    "z = \"awesome\"\n",
    "print(x, y, z)\n",
    "print()\n",
    "print('You can also use the + operator to output multiple variables:')\n",
    "x = \"Python \"\n",
    "y = \"is \"\n",
    "z = \"awesome\"\n",
    "print(x + y + z)\n",
    "print()\n",
    "print('For numbers, the + character works as a mathematical operator:')\n",
    "x = 5\n",
    "y = 10\n",
    "print(x + y)\n",
    "print('if we want to combine string and number then use comma')\n",
    "x = 5\n",
    "y = \"John\"\n",
    "print(x, y)"
   ]
  }
 ],
 "metadata": {
  "kernelspec": {
   "display_name": "Python 3",
   "language": "python",
   "name": "python3"
  },
  "language_info": {
   "codemirror_mode": {
    "name": "ipython",
    "version": 3
   },
   "file_extension": ".py",
   "mimetype": "text/x-python",
   "name": "python",
   "nbconvert_exporter": "python",
   "pygments_lexer": "ipython3",
   "version": "3.13.2"
  }
 },
 "nbformat": 4,
 "nbformat_minor": 5
}
