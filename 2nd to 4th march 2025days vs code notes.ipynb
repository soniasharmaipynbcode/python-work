{
 "cells": [
  {
   "cell_type": "code",
   "execution_count": 5,
   "metadata": {},
   "outputs": [
    {
     "name": "stdout",
     "output_type": "stream",
     "text": [
      "hello day1\n"
     ]
    }
   ],
   "source": [
    "print(\"hello day1\")"
   ]
  },
  {
   "cell_type": "markdown",
   "metadata": {},
   "source": [
    "python first day work"
   ]
  },
  {
   "cell_type": "code",
   "execution_count": null,
   "metadata": {},
   "outputs": [],
   "source": []
  },
  {
   "cell_type": "code",
   "execution_count": 1,
   "metadata": {},
   "outputs": [
    {
     "name": "stdout",
     "output_type": "stream",
     "text": [
      "hello\n"
     ]
    }
   ],
   "source": [
    "print(\"hello\")"
   ]
  },
  {
   "cell_type": "code",
   "execution_count": 6,
   "metadata": {},
   "outputs": [
    {
     "name": "stdout",
     "output_type": "stream",
     "text": [
      "hello day2\n"
     ]
    }
   ],
   "source": [
    "print(\"hello day2\")"
   ]
  },
  {
   "cell_type": "code",
   "execution_count": 4,
   "metadata": {},
   "outputs": [
    {
     "name": "stdout",
     "output_type": "stream",
     "text": [
      "30\n"
     ]
    }
   ],
   "source": [
    "a=10\n",
    "b=20\n",
    "c=a+b\n",
    "print(c)"
   ]
  },
  {
   "cell_type": "code",
   "execution_count": 11,
   "metadata": {},
   "outputs": [
    {
     "name": "stdout",
     "output_type": "stream",
     "text": [
      "False True True True True True\n"
     ]
    }
   ],
   "source": [
    "a=10\n",
    "b=20\n",
    "c=30\n",
    "d=a==b\n",
    "e=a<b\n",
    "f=c>b\n",
    "g=a<=b\n",
    "h=b>=d\n",
    "i=b!=a\n",
    "print(d,e,f,g,h,i)\n",
    "\n"
   ]
  },
  {
   "cell_type": "code",
   "execution_count": 13,
   "metadata": {},
   "outputs": [
    {
     "name": "stdout",
     "output_type": "stream",
     "text": [
      "50 -10 300 0.6666666666666666 20 400 40 20\n"
     ]
    }
   ],
   "source": [
    "a=20\n",
    "b=30\n",
    "c=10\n",
    "d=a+b\n",
    "e=a-b\n",
    "f=c*b\n",
    "g=a/b\n",
    "h=a%b\n",
    "i=a**2\n",
    "a+=20\n",
    "b-=10\n",
    "\n",
    "print(d,e,f,g,h,i,a,b)"
   ]
  },
  {
   "cell_type": "code",
   "execution_count": 16,
   "metadata": {},
   "outputs": [
    {
     "name": "stdout",
     "output_type": "stream",
     "text": [
      "20\n"
     ]
    }
   ],
   "source": [
    "a=int(input('enter any no for a'))\n",
    "b=int(input('enter any number for b'))\n",
    "c=a+b\n",
    "print(c)"
   ]
  },
  {
   "cell_type": "code",
   "execution_count": 17,
   "metadata": {},
   "outputs": [
    {
     "name": "stdout",
     "output_type": "stream",
     "text": [
      "a is greater\n"
     ]
    }
   ],
   "source": [
    "a=10\n",
    "b=-20\n",
    "if a>b:\n",
    "    print('a is greater')\n",
    "else:\n",
    "    print('b is greater')\n",
    "    "
   ]
  },
  {
   "cell_type": "code",
   "execution_count": 26,
   "metadata": {},
   "outputs": [
    {
     "name": "stdout",
     "output_type": "stream",
     "text": [
      "a and b is equal\n"
     ]
    }
   ],
   "source": [
    "a=20\n",
    "b=20\n",
    "if a<b:\n",
    "    print('a is less')\n",
    "elif a==b:\n",
    "    print('a and b is equal')\n",
    "else:\n",
    "    print('b is greater')\n",
    "    "
   ]
  },
  {
   "cell_type": "code",
   "execution_count": 29,
   "metadata": {},
   "outputs": [
    {
     "name": "stdout",
     "output_type": "stream",
     "text": [
      "num is zero\n"
     ]
    }
   ],
   "source": [
    "a=int(input('enter any number either positive and negative or zero'))\n",
    "if a<0:\n",
    "    print(\"num is negative\")\n",
    "elif a>0:\n",
    "    print(\"num is positive\")\n",
    "else:\n",
    "    print('num is zero')"
   ]
  },
  {
   "cell_type": "code",
   "execution_count": 3,
   "metadata": {},
   "outputs": [
    {
     "name": "stdout",
     "output_type": "stream",
     "text": [
      "num is odd\n"
     ]
    }
   ],
   "source": [
    "a=int(input('enter any number'))\n",
    "if a%2==0:\n",
    "    print('num is even')\n",
    "else:\n",
    "    print('num is odd')\n",
    "    \n"
   ]
  },
  {
   "cell_type": "code",
   "execution_count": 1,
   "metadata": {},
   "outputs": [
    {
     "name": "stdout",
     "output_type": "stream",
     "text": [
      "this is 6th march 2025\n"
     ]
    }
   ],
   "source": [
    "print(\"this is 6th march 2025\")"
   ]
  },
  {
   "cell_type": "code",
   "execution_count": null,
   "metadata": {},
   "outputs": [
    {
     "name": "stdout",
     "output_type": "stream",
     "text": [
      "enter the student marks and examin their grade\n",
      "valid marks\n"
     ]
    }
   ],
   "source": [
    "print(\"enter the student marks and examin their grade\")\n",
    "marks=int(input(\"please emter student marks\"))\n",
    "if(marks>100):\n",
    "    print(\"enter valid marks\")\n",
    "elif(marks>=80):\n",
    "    print(\"student got a grade\")\n",
    "elif(marks>60 and marks<=80):\n",
    "    print(\"student got b grade\")\n",
    "elif(marks>40 and marks<=60):\n",
    "    print(\"student got c grade\")\n",
    "else:\n",
    "    print(\"student fail\")\n"
   ]
  },
  {
   "cell_type": "code",
   "execution_count": 15,
   "metadata": {},
   "outputs": [
    {
     "name": "stdout",
     "output_type": "stream",
     "text": [
      "prog regarding calculator\n",
      "2.5\n"
     ]
    }
   ],
   "source": [
    "print(\"prog regarding calculator\")\n",
    "num1=int(input(\"enter numb1\"))\n",
    "num2=int(input(\"enter num2\"))\n",
    "oper=input(\"enter any operator\")\n",
    "if(oper=='+'):\n",
    "    num3=num1+num2\n",
    "    print(num3)\n",
    "elif(oper=='-'):\n",
    "    num3=num1-num2\n",
    "    print(num3)\n",
    "elif(oper=='*'):\n",
    "    num3=num1*num2\n",
    "    print(num3)\n",
    "elif(oper=='/'):\n",
    "    if(num2!=0):\n",
    "         num3=num1/num2\n",
    "         print(num3)\n",
    "    else:\n",
    "        print(\"number not divisible by zero\")\n",
    "    \n",
    "elif(oper=='%'):\n",
    "    num3=num1%num2\n",
    "    print(num3)\n",
    "else:\n",
    "    print(\"plz enter valid opertor\")\n",
    "    \n"
   ]
  },
  {
   "cell_type": "code",
   "execution_count": null,
   "metadata": {},
   "outputs": [],
   "source": []
  }
 ],
 "metadata": {
  "kernelspec": {
   "display_name": "Python 3",
   "language": "python",
   "name": "python3"
  },
  "language_info": {
   "codemirror_mode": {
    "name": "ipython",
    "version": 3
   },
   "file_extension": ".py",
   "mimetype": "text/x-python",
   "name": "python",
   "nbconvert_exporter": "python",
   "pygments_lexer": "ipython3",
   "version": "3.13.2"
  }
 },
 "nbformat": 4,
 "nbformat_minor": 2
}
